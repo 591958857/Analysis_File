{
 "cells": [
  {
   "cell_type": "code",
   "execution_count": 2,
   "id": "4639eb37",
   "metadata": {},
   "outputs": [],
   "source": [
    "import  pymysql\n",
    "\n"
   ]
  },
  {
   "cell_type": "code",
   "execution_count": 14,
   "id": "96904f91",
   "metadata": {},
   "outputs": [
    {
     "name": "stdout",
     "output_type": "stream",
     "text": [
      "((1, '测试'), (1, '测试'))\n"
     ]
    }
   ],
   "source": [
    "con=pymysql.connect(host='localhost',user='root',password='test',database='Analysis_Data',charset='utf8')\n",
    "cur=con.cursor()\n",
    "sql='select * from test'\n",
    "cur.execute(sql)\n",
    "all=cur.fetchall()\n",
    "print(all)\n",
    "cur.close()\n",
    "con.close()"
   ]
  },
  {
   "cell_type": "code",
   "execution_count": 13,
   "id": "fcf77f73",
   "metadata": {},
   "outputs": [],
   "source": [
    "con=pymysql.connect(host='localhost',user='root',password='test',database='Analysis_Data',charset='utf8')\n",
    "cur=con.cursor()\n",
    "isertSql='insert into test (id,name) VALUES (1,\"测试\")'\n",
    "cur.execute(isertSql)\n",
    "con.commit()\n",
    "cur.close()\n",
    "con.close()"
   ]
  },
  {
   "cell_type": "markdown",
   "id": "ef56cccd",
   "metadata": {},
   "source": [
    "https://blog.csdn.net/weixin_44786530/article/details/123066819 dataframe数据批量插入db\n",
    "https://blog.csdn.net/weixin_45914452/article/details/120585861 字段筛选"
   ]
  },
  {
   "cell_type": "code",
   "execution_count": 17,
   "id": "5a70398d",
   "metadata": {},
   "outputs": [],
   "source": [
    "#使用pandas读取excel\n",
    "import pandas as pd #导入Pandas\n",
    "df_fission = pd.read_csv('易速鲜花增长模型.csv') #载入数据\n"
   ]
  },
  {
   "cell_type": "code",
   "execution_count": 19,
   "id": "ac53e0e6",
   "metadata": {},
   "outputs": [],
   "source": [
    "class sqlConfig:\n",
    "    db_name = \"Analysis_Data\"     # 数据库名\n",
    "    db_user = \"root\"              # 用户名\n",
    "    db_host = \"localhost\"         # IP地址\n",
    "    db_port = 3306                # 端口号\n",
    "    db_passwd = \"test\"            # 密码\n"
   ]
  },
  {
   "cell_type": "code",
   "execution_count": 26,
   "id": "b0b92773",
   "metadata": {},
   "outputs": [],
   "source": [
    "\n",
    "from sqlalchemy import create_engine\n",
    "\n",
    "#excel批量写入db\n",
    "def insert_data_by_pandas(dataframe, table_name, if_exists='append'):\n",
    "    '''\n",
    "    通过dataframe 向 sql 中插入表，此方法缺点是若表已存在，不能替换表中部分重复数据，只能替换/追加整张表\n",
    "    :param dataframe: pd.Dataframe类型\n",
    "    :param table_name: 插入的表名\n",
    "    :param if_exists: {'fail', 'replace', 'append'}, default 'fail'\n",
    "        - fail: If table exists, do nothing.\n",
    "        - replace: If table exists, drop it, recreate it, and insert data.\n",
    "        - append: If table exists, insert data. Create if does not exist.\n",
    "    :return:\n",
    "    '''\n",
    "\n",
    "    # 初始化数据库连接，使用pymysql模块\n",
    "    db_info = {\n",
    "        'user': sqlConfig.db_user,\n",
    "        'password': sqlConfig.db_passwd,\n",
    "        'host': sqlConfig.db_host,\n",
    "        'port': sqlConfig.db_port,\n",
    "        'database': sqlConfig.db_name\n",
    "    }\n",
    "\n",
    "    engine = create_engine(\n",
    "        'mysql+pymysql://%(user)s:%(password)s@%(host)s:%(port)d/%(database)s?charset=utf8' % db_info,\n",
    "        encoding='utf-8'\n",
    "    )\n",
    "\n",
    "    dataframe.to_sql(table_name, engine, if_exists=if_exists, index=False, chunksize=100)"
   ]
  },
  {
   "cell_type": "code",
   "execution_count": 52,
   "id": "8cec4284",
   "metadata": {
    "scrolled": true
   },
   "outputs": [],
   "source": [
    "insert_data_by_pandas(df_fission[(df_fission['用户码']>200)&(df_fission['用户码']<=300)],'increase_data')"
   ]
  },
  {
   "cell_type": "code",
   "execution_count": 46,
   "id": "0f76eb31",
   "metadata": {
    "scrolled": true
   },
   "outputs": [],
   "source": [
    "#从db读取数据，转换成dataframe，生成csv文件\n",
    "import pandas as pd\n",
    "import pymysql \n",
    " \n",
    "con = pymysql.connect(host='localhost',user='root',password='test',database='Analysis_Data',charset='utf8') # 连接\n",
    "cur = con.cursor()\n",
    "sql='select * from increase_data where `用户码`<=100;'\n",
    "\n",
    "def read_table(cur, sql): # sql_order is a string\n",
    "    try:\n",
    "        cur.execute(sql) # 多少条记录\n",
    "        data  = cur.fetchall(  )\n",
    "    \n",
    "        columnDes = cur.description #获取连接对象的描述信息 \n",
    "        columnNames = [columnDes[i][0] for i in range(len(columnDes))]    \n",
    "        frame = pd.DataFrame([list(i) for i in data],columns=columnNames)    \n",
    "#         frame = pd.DataFrame(list(data),columns=columnNames)\n",
    "    except: #, e:\n",
    "        frame = pd.DataFrame()\n",
    "        # print e\n",
    "        # continue \n",
    "    return frame\n",
    "\n",
    "df = read_table(cur, sql)\n",
    "df.to_csv('易速鲜花增长模型100.csv');\n",
    " \n",
    "# con.commit()\n",
    "cur.close()\n",
    "con.close()\n",
    "\n",
    " "
   ]
  }
 ],
 "metadata": {
  "kernelspec": {
   "display_name": "Python 3 (ipykernel)",
   "language": "python",
   "name": "python3"
  },
  "language_info": {
   "codemirror_mode": {
    "name": "ipython",
    "version": 3
   },
   "file_extension": ".py",
   "mimetype": "text/x-python",
   "name": "python",
   "nbconvert_exporter": "python",
   "pygments_lexer": "ipython3",
   "version": "3.9.13"
  }
 },
 "nbformat": 4,
 "nbformat_minor": 5
}
